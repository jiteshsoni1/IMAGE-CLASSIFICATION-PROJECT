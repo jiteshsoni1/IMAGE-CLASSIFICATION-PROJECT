{
 "cells": [
  {
   "cell_type": "code",
   "execution_count": null,
   "id": "0c27d230-f15d-4fee-acc8-b04cb98f4a50",
   "metadata": {},
   "outputs": [],
   "source": [
    "import numpy as np \n",
    "import pandas as pd \n",
    "import matplotlib.pyplot as plt \n",
    "import tensorflow as tf \n",
    "print(tf.__version__)\n",
    "\n",
    "from tensorflow import keras \n",
    "from tensorflow.keras import layers\n",
    "print(\"TensorFlow version:\", tf.__version__)\n",
    "print(\"NumPy version:\", np.__version__)"
   ]
  },
  {
   "cell_type": "code",
   "execution_count": null,
   "id": "0b58067c-8e2d-4105-ab45-1d58622df536",
   "metadata": {},
   "outputs": [],
   "source": [
    "data_train_path = 'C:/Users/Administrator/Image Classification Model/Fruits_Vegetables/train'\n",
    "data_val_path   = 'C:/Users/Administrator/Image Classification Model/Fruits_Vegetables/validation'\n",
    "data_test_path  = 'C:/Users/Administrator/Image Classification Model/Fruits_Vegetables/test'\n"
   ]
  },
  {
   "cell_type": "code",
   "execution_count": null,
   "id": "c40108c4-d220-4357-ba37-98391ba89097",
   "metadata": {},
   "outputs": [],
   "source": [
    "img_width = 180 \n",
    "img_height = 180"
   ]
  },
  {
   "cell_type": "code",
   "execution_count": null,
   "id": "c7d8d44b-b929-4301-ae5b-4460cb426c76",
   "metadata": {},
   "outputs": [],
   "source": [
    "data_train = tf.keras.utils.image_dataset_from_directory(\n",
    "    data_train_path,\n",
    "    shuffle = True,\n",
    "    image_size = (img_width,img_height),\n",
    "    batch_size = 32,\n",
    "    validation_split = False)"
   ]
  },
  {
   "cell_type": "code",
   "execution_count": null,
   "id": "9bf3b275-7b14-4103-a2a7-7ee5d1066e93",
   "metadata": {},
   "outputs": [],
   "source": [
    "data_train.class_names"
   ]
  },
  {
   "cell_type": "code",
   "execution_count": null,
   "id": "293c745c-b033-4eec-ac6e-3fcaa859649d",
   "metadata": {},
   "outputs": [],
   "source": [
    "data_cat = data_train.class_names\n"
   ]
  },
  {
   "cell_type": "code",
   "execution_count": null,
   "id": "01187093-e8e8-4d53-b0b2-1d195a71cd7f",
   "metadata": {},
   "outputs": [],
   "source": [
    "data_val = tf.keras.utils.image_dataset_from_directory(\n",
    "      data_val_path,\n",
    "    shuffle = False,\n",
    "    image_size = (img_width,img_height),\n",
    "    batch_size = 32,\n",
    "    validation_split = False)"
   ]
  },
  {
   "cell_type": "code",
   "execution_count": null,
   "id": "9ff75d30-d60d-4f3e-a24e-5ca7352d0e5f",
   "metadata": {},
   "outputs": [],
   "source": [
    "data_test = tf.keras.utils.image_dataset_from_directory(\n",
    "     data_test_path,\n",
    "    shuffle = False,\n",
    "    image_size = (img_width,img_height),\n",
    "    batch_size = 32,\n",
    "    validation_split = False)\n",
    "    "
   ]
  },
  {
   "cell_type": "code",
   "execution_count": null,
   "id": "136b347d-0e8a-4229-96d6-81ff60759fb7",
   "metadata": {},
   "outputs": [],
   "source": [
    "plt.figure(figsize=(10,10))\n",
    "for image, labels in data_train.take(1):\n",
    "    for i in range(9):\n",
    "        plt.subplot(3,3,i+1)\n",
    "        plt.imshow(image[i].numpy().astype('uint8'))\n",
    "        plt.title(data_cat[labels[i]])\n",
    "        plt.axis('off')\n",
    "\n",
    "\n",
    "    "
   ]
  },
  {
   "cell_type": "code",
   "execution_count": null,
   "id": "c7324886-e344-422f-9295-880655419559",
   "metadata": {},
   "outputs": [],
   "source": [
    "from tensorflow.keras.models import Sequential"
   ]
  },
  {
   "cell_type": "code",
   "execution_count": null,
   "id": "bd952102-f142-4513-b00f-c518b7b585e8",
   "metadata": {},
   "outputs": [],
   "source": [
    "data_train"
   ]
  },
  {
   "cell_type": "code",
   "execution_count": null,
   "id": "15a481a7-7acc-41b9-a62c-f076b4d5361f",
   "metadata": {},
   "outputs": [],
   "source": [
    "model = Sequential([\n",
    "    layers.Rescaling(1./255),\n",
    "    layers.Conv2D(16,3,padding = 'same', activation = 'relu'),\n",
    "    layers.MaxPooling2D(),\n",
    "    layers.Conv2D(32,3,padding = 'same', activation = 'relu'),\n",
    "    layers.MaxPooling2D(),\n",
    "    layers.Conv2D(64,3,padding = 'same', activation = 'relu'),\n",
    "    layers.MaxPooling2D(),\n",
    "    layers.Flatten(),\n",
    "    layers.Dropout(0.2),\n",
    "    layers.Dense(128),\n",
    "    layers.Dense(len(data_cat),activation='softmax')\n",
    "])"
   ]
  },
  {
   "cell_type": "code",
   "execution_count": null,
   "id": "2f422649-5f5a-4357-829d-471e8a14244a",
   "metadata": {},
   "outputs": [],
   "source": [
    "model.compile(\n",
    "    optimizer='adam',\n",
    "    loss='sparse_categorical_crossentropy',\n",
    "    metrics=['accuracy']\n",
    ")\n"
   ]
  },
  {
   "cell_type": "code",
   "execution_count": null,
   "id": "f2538f9b-8309-430c-94b7-2517094a972b",
   "metadata": {},
   "outputs": [],
   "source": [
    "for images, labels in data_train.take(1):\n",
    "    print(\"Images:\", images.shape, \"Labels:\", labels.shape)\n",
    "    print(\"Image dtype:\", images.dtype)\n",
    "    print(\"Label dtype:\", labels.dtype)\n"
   ]
  },
  {
   "cell_type": "code",
   "execution_count": null,
   "id": "56709c53-4acc-42b2-98ab-6c1cdc1678b0",
   "metadata": {},
   "outputs": [],
   "source": [
    "epochs_size = 25\n",
    "history = model.fit(data_train, validation_data=data_val, epochs=epochs_size)"
   ]
  },
  {
   "cell_type": "code",
   "execution_count": null,
   "id": "f257eab5-3d19-4a02-81ca-aa52a8339960",
   "metadata": {},
   "outputs": [],
   "source": []
  },
  {
   "cell_type": "code",
   "execution_count": null,
   "id": "514b4ceb-b001-445b-9951-a0ad53d95136",
   "metadata": {},
   "outputs": [],
   "source": []
  }
 ],
 "metadata": {
  "kernelspec": {
   "display_name": "example",
   "language": "python",
   "name": "example"
  },
  "language_info": {
   "codemirror_mode": {
    "name": "ipython",
    "version": 3
   },
   "file_extension": ".py",
   "mimetype": "text/x-python",
   "name": "python",
   "nbconvert_exporter": "python",
   "pygments_lexer": "ipython3",
   "version": "3.12.3"
  }
 },
 "nbformat": 4,
 "nbformat_minor": 5
}
